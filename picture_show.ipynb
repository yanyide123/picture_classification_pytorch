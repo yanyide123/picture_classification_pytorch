{
 "cells": [
  {
   "cell_type": "code",
   "execution_count": null,
   "id": "22e797a1",
   "metadata": {
    "ExecuteTime": {
     "start_time": "2022-01-21T02:50:21.319Z"
    }
   },
   "outputs": [],
   "source": [
    "import matplotlib.pyplot as plt # plt 用于显示图片\n",
    "import matplotlib.image as mpimg # mpimg 用于读取图片\n",
    "import numpy as np\n",
    "import os\n",
    "import cv2\n",
    "import glob\n",
    "from PIL import Image\n",
    "from sklearn.model_selection import train_test_split\n",
    "from sklearn.preprocessing import StandardScaler\n",
    "import seaborn as sns\n",
    "import pandas as pd\n",
    "%matplotlib inline"
   ]
  },
  {
   "cell_type": "code",
   "execution_count": null,
   "id": "0dcaf6a1",
   "metadata": {
    "ExecuteTime": {
     "end_time": "2022-01-21T02:49:58.172504Z",
     "start_time": "2022-01-21T02:49:58.172504Z"
    }
   },
   "outputs": [],
   "source": [
    "data_path = r\"D:\\中石油工作\\pytorch_classification-master\\data\\data_oil\"\n",
    "\n",
    "def load_data(data_path):\n",
    "    lables = os.listdir(data_path)\n",
    "    images_all = []\n",
    "    for index, lable in enumerate(lables):\n",
    "        images = glob.glob(os.path.join(data_path, lable, \"*png\"))\n",
    "        for img in images:\n",
    "            images_all.append([img, index])\n",
    "    #     print(images)\n",
    "        images = glob.glob(os.path.join(data_path, lable, \"*jpg\"))\n",
    "        for img in images:\n",
    "            images_all.append([img, index])\n",
    "    return images_all\n",
    "images = load_data(data_path)\n",
    "# print(images)\n",
    "# for j in range(14):\n",
    "#     image = [images[i] for i in range(len(images)) if images[i][1] == j]\n",
    "#     fig, ax_array = plt.subplots(1, 5)\n",
    "#     axes = ax_array.flatten()\n",
    "#     for i, ax in enumerate(axes):\n",
    "#         imgs = plt.imread(image[i][0])\n",
    "#         lable = image[i][1]\n",
    "#         img = cv2.resize(imgs, (256, 256), interpolation=cv2.INTER_CUBIC)\n",
    "#         ax.imshow(img, cmap=\"gray_r\")\n",
    "#     plt.title(\"lable:\" + str(lable), fontsize=24)\n",
    "#     plt.setp(axes, xticks=[], yticks=[], frame_on=False)\n",
    "#     plt.tight_layout(h_pad=2, w_pad=1)"
   ]
  },
  {
   "cell_type": "code",
   "execution_count": null,
   "id": "9ed04414",
   "metadata": {},
   "outputs": [],
   "source": []
  }
 ],
 "metadata": {
  "kernelspec": {
   "display_name": "Python 3 (ipykernel)",
   "language": "python",
   "name": "python3"
  },
  "language_info": {
   "codemirror_mode": {
    "name": "ipython",
    "version": 3
   },
   "file_extension": ".py",
   "mimetype": "text/x-python",
   "name": "python",
   "nbconvert_exporter": "python",
   "pygments_lexer": "ipython3",
   "version": "3.7.0"
  }
 },
 "nbformat": 4,
 "nbformat_minor": 5
}
